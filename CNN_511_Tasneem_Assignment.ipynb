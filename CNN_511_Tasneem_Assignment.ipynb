{
  "cells": [
    {
      "cell_type": "markdown",
      "metadata": {
        "id": "view-in-github",
        "colab_type": "text"
      },
      "source": [
        "<a href=\"https://colab.research.google.com/github/Tasneem3614/-MSC_MLDL_511/blob/main/CNN_511_Tasneem_Assignment.ipynb\" target=\"_parent\"><img src=\"https://colab.research.google.com/assets/colab-badge.svg\" alt=\"Open In Colab\"/></a>"
      ]
    },
    {
      "cell_type": "code",
      "source": [
        "import tensorflow as tf\n",
        "from keras.preprocessing.image import ImageDataGenerator"
      ],
      "metadata": {
        "id": "__bU6p3zIRxT"
      },
      "execution_count": null,
      "outputs": []
    },
    {
      "cell_type": "code",
      "source": [
        "from google.colab import drive\n",
        "drive.mount('/content/drive')"
      ],
      "metadata": {
        "id": "GeGH2ptPJUOG",
        "outputId": "ec7bd011-4aaf-40ef-f8d1-a7a36fe13692",
        "colab": {
          "base_uri": "https://localhost:8080/"
        }
      },
      "execution_count": null,
      "outputs": [
        {
          "output_type": "stream",
          "name": "stdout",
          "text": [
            "Mounted at /content/drive\n"
          ]
        }
      ]
    },
    {
      "cell_type": "code",
      "source": [
        "tf.__version__"
      ],
      "metadata": {
        "id": "ikOks_EsJ6eh",
        "outputId": "46d14684-7a44-409d-ca2e-741ed89edc83",
        "colab": {
          "base_uri": "https://localhost:8080/",
          "height": 36
        }
      },
      "execution_count": null,
      "outputs": [
        {
          "output_type": "execute_result",
          "data": {
            "text/plain": [
              "'2.12.0'"
            ],
            "application/vnd.google.colaboratory.intrinsic+json": {
              "type": "string"
            }
          },
          "metadata": {},
          "execution_count": 3
        }
      ]
    },
    {
      "cell_type": "code",
      "source": [],
      "metadata": {
        "id": "EZiAt_4NJ8RZ"
      },
      "execution_count": null,
      "outputs": []
    },
    {
      "cell_type": "code",
      "source": [
        "train_datagen = ImageDataGenerator(rescale=1./225,\n",
        "                                   shear_range=0.2,\n",
        "                                   zoom_range=0.2,\n",
        "                                   horizontal_flip= True)\n",
        "training_set =train_datagen.flow_from_directory('drive/MyDrive/small_dataset/training_set',\n",
        "                                                target_size=(64,64),\n",
        "                                                batch_size = 32,\n",
        "                                                class_mode ='binary')"
      ],
      "metadata": {
        "colab": {
          "base_uri": "https://localhost:8080/"
        },
        "id": "RaLBeRaO9k1x",
        "outputId": "d78534d8-f4d8-4ea0-9f56-ceb463b35a8a"
      },
      "execution_count": null,
      "outputs": [
        {
          "output_type": "stream",
          "name": "stdout",
          "text": [
            "Found 10 images belonging to 2 classes.\n"
          ]
        }
      ]
    },
    {
      "cell_type": "code",
      "source": [
        "test_datagen = ImageDataGenerator(rescale = 1./255)\n",
        "test_set = test_datagen.flow_from_directory('drive/MyDrive/small_dataset/test_set',\n",
        "                                            target_size =(64,64),\n",
        "                                            batch_size = 32,\n",
        "                                            class_mode = 'binary')"
      ],
      "metadata": {
        "id": "B2SFXaAe9k-c",
        "colab": {
          "base_uri": "https://localhost:8080/"
        },
        "outputId": "99f3cf52-8e40-4f54-9f13-ac9cf1ba463d"
      },
      "execution_count": null,
      "outputs": [
        {
          "output_type": "stream",
          "name": "stdout",
          "text": [
            "Found 10 images belonging to 2 classes.\n"
          ]
        }
      ]
    },
    {
      "cell_type": "code",
      "source": [],
      "metadata": {
        "id": "VowtpbshKZ8i"
      },
      "execution_count": null,
      "outputs": []
    },
    {
      "cell_type": "code",
      "source": [
        "cnn = tf.keras.models.Sequential()"
      ],
      "metadata": {
        "id": "xhNesoEv_d6q"
      },
      "execution_count": null,
      "outputs": []
    },
    {
      "cell_type": "code",
      "source": [
        "cnn.add(tf.keras.layers.Convolution2D(filters=32,kernel_size=3,activation='relu',input_shape=[64,64,3]))"
      ],
      "metadata": {
        "id": "NSf4VJuO_eFk"
      },
      "execution_count": null,
      "outputs": []
    },
    {
      "cell_type": "code",
      "source": [
        "cnn.add(tf.keras.layers.MaxPool2D(pool_size=2,strides=2))"
      ],
      "metadata": {
        "id": "G45m3f3NAUvc"
      },
      "execution_count": null,
      "outputs": []
    },
    {
      "cell_type": "code",
      "source": [
        "cnn.add(tf.keras.layers.Convolution2D(filters=32,kernel_size=3,activation ='relu'))\n",
        "cnn.add(tf.keras.layers.MaxPool2D(pool_size=2,strides=2))"
      ],
      "metadata": {
        "id": "oG6WUcbFAU9-"
      },
      "execution_count": null,
      "outputs": []
    },
    {
      "cell_type": "code",
      "source": [
        "cnn.add(tf.keras.layers.Flatten())"
      ],
      "metadata": {
        "id": "sOz8RtkqCs5B"
      },
      "execution_count": null,
      "outputs": []
    },
    {
      "cell_type": "code",
      "source": [
        "cnn.add(tf.keras.layers.Dense(units=128,activation='relu'))"
      ],
      "metadata": {
        "id": "BNUXXKoyCu09"
      },
      "execution_count": null,
      "outputs": []
    },
    {
      "cell_type": "code",
      "source": [
        "cnn.add(tf.keras.layers.Dense(units=1,activation='sigmoid'))"
      ],
      "metadata": {
        "id": "IO-73myiCu-L"
      },
      "execution_count": null,
      "outputs": []
    },
    {
      "cell_type": "code",
      "source": [
        "cnn.compile(optimizer='adam',loss='binary_crossentropy',metrics=['accuracy'])"
      ],
      "metadata": {
        "id": "RKUI3dmADIkr"
      },
      "execution_count": null,
      "outputs": []
    },
    {
      "cell_type": "code",
      "source": [
        "cnn.fit(x=training_set,validation_data=test_set,epochs=25)"
      ],
      "metadata": {
        "colab": {
          "base_uri": "https://localhost:8080/"
        },
        "id": "XejELTRjDIoy",
        "outputId": "87dff166-bf31-40fb-c9f7-d85a71305ced"
      },
      "execution_count": null,
      "outputs": [
        {
          "output_type": "stream",
          "name": "stdout",
          "text": [
            "Epoch 1/25\n",
            "1/1 [==============================] - 3s 3s/step - loss: 0.7027 - accuracy: 0.5000 - val_loss: 0.7370 - val_accuracy: 0.5000\n",
            "Epoch 2/25\n",
            "1/1 [==============================] - 0s 133ms/step - loss: 0.7138 - accuracy: 0.5000 - val_loss: 0.8026 - val_accuracy: 0.5000\n",
            "Epoch 3/25\n",
            "1/1 [==============================] - 0s 131ms/step - loss: 0.7729 - accuracy: 0.5000 - val_loss: 0.7094 - val_accuracy: 0.5000\n",
            "Epoch 4/25\n",
            "1/1 [==============================] - 0s 122ms/step - loss: 0.6104 - accuracy: 0.8000 - val_loss: 0.7345 - val_accuracy: 0.5000\n",
            "Epoch 5/25\n",
            "1/1 [==============================] - 0s 123ms/step - loss: 0.6320 - accuracy: 0.6000 - val_loss: 0.7477 - val_accuracy: 0.5000\n",
            "Epoch 6/25\n",
            "1/1 [==============================] - 0s 123ms/step - loss: 0.6433 - accuracy: 0.6000 - val_loss: 0.7301 - val_accuracy: 0.5000\n",
            "Epoch 7/25\n",
            "1/1 [==============================] - 0s 120ms/step - loss: 0.6078 - accuracy: 0.6000 - val_loss: 0.7121 - val_accuracy: 0.4000\n",
            "Epoch 8/25\n",
            "1/1 [==============================] - 0s 120ms/step - loss: 0.5618 - accuracy: 0.9000 - val_loss: 0.7108 - val_accuracy: 0.4000\n",
            "Epoch 9/25\n",
            "1/1 [==============================] - 0s 130ms/step - loss: 0.5290 - accuracy: 0.9000 - val_loss: 0.7241 - val_accuracy: 0.4000\n",
            "Epoch 10/25\n",
            "1/1 [==============================] - 0s 121ms/step - loss: 0.4976 - accuracy: 0.9000 - val_loss: 0.7317 - val_accuracy: 0.4000\n",
            "Epoch 11/25\n",
            "1/1 [==============================] - 0s 120ms/step - loss: 0.4510 - accuracy: 0.9000 - val_loss: 0.7676 - val_accuracy: 0.4000\n",
            "Epoch 12/25\n",
            "1/1 [==============================] - 0s 117ms/step - loss: 0.4367 - accuracy: 0.9000 - val_loss: 0.7762 - val_accuracy: 0.5000\n",
            "Epoch 13/25\n",
            "1/1 [==============================] - 0s 119ms/step - loss: 0.3399 - accuracy: 1.0000 - val_loss: 0.8101 - val_accuracy: 0.4000\n",
            "Epoch 14/25\n",
            "1/1 [==============================] - 0s 126ms/step - loss: 0.3462 - accuracy: 0.9000 - val_loss: 0.8323 - val_accuracy: 0.5000\n",
            "Epoch 15/25\n",
            "1/1 [==============================] - 0s 123ms/step - loss: 0.2705 - accuracy: 0.9000 - val_loss: 0.8742 - val_accuracy: 0.4000\n",
            "Epoch 16/25\n",
            "1/1 [==============================] - 0s 129ms/step - loss: 0.2530 - accuracy: 1.0000 - val_loss: 0.8975 - val_accuracy: 0.4000\n",
            "Epoch 17/25\n",
            "1/1 [==============================] - 0s 113ms/step - loss: 0.2327 - accuracy: 0.9000 - val_loss: 0.9351 - val_accuracy: 0.4000\n",
            "Epoch 18/25\n",
            "1/1 [==============================] - 0s 132ms/step - loss: 0.1653 - accuracy: 1.0000 - val_loss: 0.9923 - val_accuracy: 0.5000\n",
            "Epoch 19/25\n",
            "1/1 [==============================] - 0s 127ms/step - loss: 0.1609 - accuracy: 1.0000 - val_loss: 1.0755 - val_accuracy: 0.4000\n",
            "Epoch 20/25\n",
            "1/1 [==============================] - 0s 126ms/step - loss: 0.2723 - accuracy: 0.9000 - val_loss: 1.0898 - val_accuracy: 0.4000\n",
            "Epoch 21/25\n",
            "1/1 [==============================] - 0s 143ms/step - loss: 0.0832 - accuracy: 1.0000 - val_loss: 1.1508 - val_accuracy: 0.4000\n",
            "Epoch 22/25\n",
            "1/1 [==============================] - 0s 136ms/step - loss: 0.0797 - accuracy: 1.0000 - val_loss: 1.2095 - val_accuracy: 0.4000\n",
            "Epoch 23/25\n",
            "1/1 [==============================] - 0s 130ms/step - loss: 0.0794 - accuracy: 1.0000 - val_loss: 1.3176 - val_accuracy: 0.2000\n",
            "Epoch 24/25\n",
            "1/1 [==============================] - 0s 121ms/step - loss: 0.0913 - accuracy: 1.0000 - val_loss: 1.3231 - val_accuracy: 0.4000\n",
            "Epoch 25/25\n",
            "1/1 [==============================] - 0s 121ms/step - loss: 0.0363 - accuracy: 1.0000 - val_loss: 1.4321 - val_accuracy: 0.5000\n"
          ]
        },
        {
          "output_type": "execute_result",
          "data": {
            "text/plain": [
              "<keras.callbacks.History at 0x7ff82c22af50>"
            ]
          },
          "metadata": {},
          "execution_count": 15
        }
      ]
    },
    {
      "cell_type": "code",
      "source": [
        "import numpy as np\n",
        "from tensorflow.keras.preprocessing import image\n",
        "test_image = image.load_img('drive/MyDrive/small_dataset/single_prediction/cat_or_dog_1.jpg',target_size=(64,64))\n",
        "test_image =image.img_to_array(test_image)\n",
        "test_image = np.expand_dims(test_image,axis=0)\n",
        "result = cnn.predict(test_image)\n",
        "training_set.class_indices\n",
        "if result[0][0]==1:\n",
        "  prediction ='dog'\n",
        "else:\n",
        "    prediction='cat'\n",
        "\n",
        "\n"
      ],
      "metadata": {
        "colab": {
          "base_uri": "https://localhost:8080/"
        },
        "id": "aMcZ1pX6DItW",
        "outputId": "6de136b8-a2ae-4257-cf1a-dab42364b250"
      },
      "execution_count": null,
      "outputs": [
        {
          "output_type": "stream",
          "name": "stdout",
          "text": [
            "1/1 [==============================] - 0s 156ms/step\n"
          ]
        }
      ]
    },
    {
      "cell_type": "code",
      "source": [
        "print(prediction)"
      ],
      "metadata": {
        "colab": {
          "base_uri": "https://localhost:8080/"
        },
        "id": "29PLzk22D3QT",
        "outputId": "bc9f8b82-881e-47e3-829f-d65af25668b1"
      },
      "execution_count": null,
      "outputs": [
        {
          "output_type": "stream",
          "name": "stdout",
          "text": [
            "cat\n"
          ]
        }
      ]
    }
  ],
  "metadata": {
    "colab": {
      "provenance": [],
      "include_colab_link": true
    },
    "kernelspec": {
      "display_name": "Python 3",
      "name": "python3"
    }
  },
  "nbformat": 4,
  "nbformat_minor": 0
}